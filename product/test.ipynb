{
 "cells": [
  {
   "cell_type": "code",
   "execution_count": 2,
   "metadata": {
    "dotnet_interactive": {
     "language": "javascript"
    },
    "polyglot_notebook": {
     "kernelName": "javascript"
    },
    "vscode": {
     "languageId": "polyglot-notebook"
    }
   },
   "outputs": [
    {
     "data": {
      "application/json": {}
     },
     "metadata": {},
     "output_type": "display_data"
    },
    {
     "data": {
      "application/json": {}
     },
     "metadata": {},
     "output_type": "display_data"
    }
   ],
   "source": [
    "\n",
    "const re = /ab+c/\n",
    "const re1 = new RegExp(\"ab+c\")\n",
    "console.log(re)\n",
    "console.log(re1)\n",
    "     "
   ]
  },
  {
   "cell_type": "code",
   "execution_count": 10,
   "metadata": {
    "dotnet_interactive": {
     "language": "javascript"
    },
    "polyglot_notebook": {
     "kernelName": "javascript"
    },
    "vscode": {
     "languageId": "polyglot-notebook"
    }
   },
   "outputs": [
    {
     "data": {
      "text/plain": [
       "2023-05-29"
      ]
     },
     "metadata": {},
     "output_type": "display_data"
    }
   ],
   "source": [
    "let current = new Date()\n",
    "let year = current.getFullYear()\n",
    "let month = current.getMonth()+1\n",
    "let date = current.getDate()\n",
    "\n",
    "\n",
    "let month_string = String(month).padStart(2,\"0\")\n",
    "let date_string = String(date).padStart(2,\"0\")\n",
    "let current_date_string = `${year}-${month_string}-${date_string}`\n",
    "console.log(current_date_string)\n",
    "     "
   ]
  }
 ],
 "metadata": {
  "language_info": {
   "name": "python"
  },
  "orig_nbformat": 4
 },
 "nbformat": 4,
 "nbformat_minor": 2
}
