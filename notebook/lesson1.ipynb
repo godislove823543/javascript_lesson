{
 "cells": [
  {
   "cell_type": "code",
   "execution_count": null,
   "metadata": {
    "vscode": {
     "languageId": "javascript"
    }
   },
   "outputs": [],
   "source": [
    "var colors;\n",
    "//建立array-> 陣列\n",
    "colors = ['white', 'black', 'custom'];\n",
    "console.log(colors)\n",
    "\n",
    "console.log(colors[0])\n",
    "console.log(colors[1])\n",
    "console.log(colors[2])"
   ]
  },
  {
   "cell_type": "code",
   "execution_count": null,
   "metadata": {
    "vscode": {
     "languageId": "javascript"
    }
   },
   "outputs": [],
   "source": []
  }
 ],
 "metadata": {
  "language_info": {
   "name": "python"
  },
  "orig_nbformat": 4
 },
 "nbformat": 4,
 "nbformat_minor": 2
}
